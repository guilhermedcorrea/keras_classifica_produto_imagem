{
 "cells": [
  {
   "cell_type": "code",
   "execution_count": 3,
   "metadata": {},
   "outputs": [],
   "source": [
    "import tensorflow as tf\n",
    "import tensorflow_hub as hub\n",
    "import cv2\n",
    "import pandas as pd\n",
    "import requests\n",
    "import numpy as np\n",
    "import os\n",
    "from io import BytesIO\n",
    "import matplotlib.pyplot as plt\n",
    "from matplotlib.patches import Rectangle\n",
    "from typing import Tuple, Optional\n",
    "\n",
    "def process_image(image_path: str, resize: bool = True) -> Tuple[tf.Tensor, Optional[str]]:\n",
    "    if image_path.startswith('http'):\n",
    "        response = requests.get(image_path)\n",
    "        if response.status_code == 200:\n",
    "            img_data = BytesIO(response.content)\n",
    "            img = cv2.imdecode(np.frombuffer(img_data.read(), np.uint8), -1)\n",
    "            if img is not None:\n",
    "                if resize:\n",
    "                    img = cv2.resize(img, (300, 300))\n",
    "                return tf.convert_to_tensor(img), image_path\n",
    "    elif os.path.exists(image_path):\n",
    "        img = cv2.imread(image_path)\n",
    "        if img is not None:\n",
    "            if resize:\n",
    "                img = cv2.resize(img, (300, 300))\n",
    "            return tf.convert_to_tensor(img), image_path\n",
    "    return None, None\n",
    "\n",
    "model_url = \"https://tfhub.dev/tensorflow/faster_rcnn/inception_resnet_v2_640x640/1\"\n",
    "model = hub.load(model_url)\n",
    "\n",
    "caminho_avaliacao = r\"D:\\imagesapp\\images\\avaliacao.csv\"\n",
    "avaliacao = pd.read_csv(caminho_avaliacao, sep=\";\", encoding=\"utf-8\")\n",
    "\n",
    "caminho_objetos = r\"D:\\imagesapp\\images\\objetos.csv\"\n",
    "objetos_df = pd.read_csv(caminho_objetos, sep=\";\", encoding=\"utf-8\")\n",
    "\n",
    "output_dir = r\"D:\\imagesapp\\images\\output\"\n",
    "os.makedirs(output_dir, exist_ok=True)\n",
    "\n",
    "for index, row in avaliacao.iterrows():\n",
    "    image_url = row['imagem']\n",
    "\n",
    "    img, image_path = process_image(image_url)\n",
    "    \n",
    "    if img is not None:\n",
    "        img = img[tf.newaxis, ...]\n",
    "        detections = model(img)\n",
    "\n",
    "        boxes = detections[\"detection_boxes\"][0].numpy()\n",
    "        scores = detections[\"detection_scores\"][0].numpy()\n",
    "        classes = detections[\"detection_classes\"][0].numpy().astype(int)\n",
    "\n",
    "        fig, ax = plt.subplots(1)\n",
    "        ax.imshow(cv2.cvtColor(img[0].numpy(), cv2.COLOR_BGR2RGB))\n",
    "\n",
    "        objetos_detectados = [] \n",
    "\n",
    "        for i in range(len(boxes)):\n",
    "            if scores[i] > 0.5:\n",
    "                classe_detectada = classes[i]\n",
    "                objetos_correspondentes = objetos_df.loc[objetos_df['objetos'] == classe_detectada, 'objetos'].values\n",
    "                if len(objetos_correspondentes) > 0:\n",
    "                    objeto_detectado = objetos_correspondentes[0]\n",
    "                else:\n",
    "                    objeto_detectado = f\"Classe {classe_detectada}\"\n",
    "                ymin, xmin, ymax, xmax = boxes[i]\n",
    "                height, width = img.shape[1], img.shape[2]\n",
    "                ymin, xmin, ymax, xmax = int(ymin * height), int(xmin * width), int(ymax * height), int(xmax * width)\n",
    "                \n",
    "                rect = Rectangle((xmin, ymin), xmax - xmin, ymax - ymin, fill=False, color='red')\n",
    "                ax.add_patch(rect)\n",
    "                objetos_detectados.append(objeto_detectado)\n",
    "\n",
    "        plt.axis('off')\n",
    "        objetos_detectados_text = ', '.join(objetos_detectados)\n",
    "        if len(objetos_detectados_text) > 50: \n",
    "            objetos_detectados_text = '\\n'.join(objetos_detectados_text.split(', '))\n",
    "        plt.text(10, 10, f\"Objetos Detectados:\\n{objetos_detectados_text}\", color='red', fontsize=8, bbox=dict(fill=False, color='white'))\n",
    "        plt.show()\n",
    "\n",
    "print(\"Imagens com bounding boxes exibidas.\")\n",
    "\n"
   ]
  },
  {
   "cell_type": "code",
   "execution_count": null,
   "metadata": {},
   "outputs": [],
   "source": []
  },
  {
   "cell_type": "code",
   "execution_count": null,
   "metadata": {},
   "outputs": [],
   "source": []
  },
  {
   "cell_type": "code",
   "execution_count": null,
   "metadata": {},
   "outputs": [
    {
     "data": {
      "text/plain": [
       "Index(['nome', 'imagem'], dtype='object')"
      ]
     },
     "execution_count": 3,
     "metadata": {},
     "output_type": "execute_result"
    }
   ],
   "source": [
    "avaliacao = pd.read_csv(caminho_avaliacao, sep=\";\", encoding=\"utf-8\")\n",
    "avaliacao.columns\n",
    "\n",
    "['nome', 'imagem']"
   ]
  },
  {
   "cell_type": "code",
   "execution_count": null,
   "metadata": {},
   "outputs": [],
   "source": []
  },
  {
   "cell_type": "code",
   "execution_count": null,
   "metadata": {},
   "outputs": [],
   "source": []
  },
  {
   "cell_type": "code",
   "execution_count": null,
   "metadata": {},
   "outputs": [],
   "source": []
  },
  {
   "cell_type": "code",
   "execution_count": null,
   "metadata": {},
   "outputs": [],
   "source": []
  },
  {
   "cell_type": "code",
   "execution_count": null,
   "metadata": {},
   "outputs": [
    {
     "data": {
      "text/plain": [
       "Index(['nome', 'imagem'], dtype='object')"
      ]
     },
     "execution_count": 6,
     "metadata": {},
     "output_type": "execute_result"
    }
   ],
   "source": [
    "avaliacao = pd.read_csv(caminho_avaliacao, sep=\";\", encoding=\"utf-8\")\n",
    "\n",
    "avaliacao.columns"
   ]
  },
  {
   "cell_type": "code",
   "execution_count": null,
   "metadata": {},
   "outputs": [
    {
     "data": {
      "text/plain": [
       "Index(['objetos', 'urlimagem', 'referencia'], dtype='object')"
      ]
     },
     "execution_count": 7,
     "metadata": {},
     "output_type": "execute_result"
    }
   ],
   "source": [
    "objetos_df = pd.read_csv(r\"D:\\imagesapp\\images\\objetos.csv\", sep=\";\", encoding=\"utf-8\")\n",
    "objetos_df.columns\n",
    "(['objetos', 'urlimagem', 'referencia'],"
   ]
  },
  {
   "cell_type": "code",
   "execution_count": null,
   "metadata": {},
   "outputs": [],
   "source": []
  }
 ],
 "metadata": {
  "kernelspec": {
   "display_name": "venv",
   "language": "python",
   "name": "python3"
  },
  "language_info": {
   "codemirror_mode": {
    "name": "ipython",
    "version": 3
   },
   "file_extension": ".py",
   "mimetype": "text/x-python",
   "name": "python",
   "nbconvert_exporter": "python",
   "pygments_lexer": "ipython3",
   "version": "3.11.5"
  }
 },
 "nbformat": 4,
 "nbformat_minor": 2
}
