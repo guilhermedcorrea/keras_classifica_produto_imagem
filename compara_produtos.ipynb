{
 "cells": [
  {
   "cell_type": "code",
   "execution_count": 2,
   "metadata": {},
   "outputs": [
    {
     "name": "stderr",
     "output_type": "stream",
     "text": [
      "[nltk_data] Downloading package stopwords to\n",
      "[nltk_data]     C:\\Users\\Guilherme\\AppData\\Roaming\\nltk_data...\n",
      "[nltk_data]   Package stopwords is already up-to-date!\n",
      "[nltk_data] Downloading package punkt to\n",
      "[nltk_data]     C:\\Users\\Guilherme\\AppData\\Roaming\\nltk_data...\n",
      "[nltk_data]   Package punkt is already up-to-date!\n"
     ]
    },
    {
     "data": {
      "text/plain": [
       "True"
      ]
     },
     "execution_count": 2,
     "metadata": {},
     "output_type": "execute_result"
    }
   ],
   "source": [
    "from typing import List, Dict\n",
    "import requests\n",
    "from bs4 import BeautifulSoup\n",
    "from collections import Counter\n",
    "from nltk.tokenize import word_tokenize\n",
    "from nltk.corpus import stopwords\n",
    "import nltk\n",
    "import tensorflow as tf\n",
    "from tensorflow.keras.preprocessing.text import Tokenizer\n",
    "from tensorflow.keras.preprocessing.sequence import pad_sequences\n",
    "import numpy as np\n",
    "\n",
    "nltk.download('stopwords')\n",
    "nltk.download('punkt')"
   ]
  },
  {
   "cell_type": "code",
   "execution_count": 1,
   "metadata": {},
   "outputs": [
    {
     "name": "stderr",
     "output_type": "stream",
     "text": [
      "[nltk_data] Downloading package stopwords to\n",
      "[nltk_data]     C:\\Users\\Guilherme\\AppData\\Roaming\\nltk_data...\n",
      "[nltk_data]   Package stopwords is already up-to-date!\n",
      "[nltk_data] Downloading package punkt to\n",
      "[nltk_data]     C:\\Users\\Guilherme\\AppData\\Roaming\\nltk_data...\n",
      "[nltk_data]   Package punkt is already up-to-date!\n"
     ]
    },
    {
     "name": "stdout",
     "output_type": "stream",
     "text": [
      "Palavras-chave para https://www.flooranddecor.com/ledgers-stone/alamo-sandstone-random-ledger-panel-100899772.html: ['shop', 'projects', 'pro', 'add', 'services', 'design', 'home', 'installation', 'piece', 'back']\n",
      "Palavras-chave para https://www.flooranddecor.com/porcelain-ceramic-decoratives/zellige-pearl-opal-polished-ceramic-tile-100776673.html: ['shop', 'projects', 'pro', 'add', 'tile', 'services', 'design', 'installation', 'home', 'back']\n",
      "Palavras-chave para https://www.flooranddecor.com/limestone-basalt-stone/black-brushed-limestone-tile-100046804.html: ['shop', 'projects', 'pro', 'add', 'stone', 'services', 'design', 'home', 'installation', 'tile']\n",
      "Palavras-chave para https://www.flooranddecor.com/limestone-basalt-stone/basalt-3-in.-hexagon-mosaic-100654334.html: ['shop', 'projects', 'add', 'pro', 'design', 'services', 'installation', 'home', 'piece', 'stone']\n",
      "Palavras-chave para https://www.portobello.com.br/revestimentos/linha/bloomy: ['e', 'portobello', 'de', 'para', 'bloomy', 'com', 'shop', 'em', 'exclusivo', 'revestimentos']\n",
      "Palavras-chave para https://www.portobello.com.br/revestimentos/linha/filo: ['portobello', 'para', 'e', 'de', 'em', 'revestimentos', 'lojas', 'multimarcas', 'lançamentos', 'filo']\n",
      "Palavras-chave para https://www.portobello.com.br/revestimentos/linha/chelsea: ['portobello', 'para', 'e', 'de', 'revestimentos', 'shop', 'lançamentos', 'chelsea', 'seu', 'lastras']\n",
      "Epoch 1/10\n",
      "1/1 [==============================] - 5s 5s/step - loss: 0.6972 - accuracy: 0.0000e+00\n",
      "Epoch 2/10\n",
      "1/1 [==============================] - 0s 47ms/step - loss: 0.6840 - accuracy: 1.0000\n",
      "Epoch 3/10\n",
      "1/1 [==============================] - 0s 52ms/step - loss: 0.6730 - accuracy: 1.0000\n",
      "Epoch 4/10\n",
      "1/1 [==============================] - 0s 37ms/step - loss: 0.6598 - accuracy: 1.0000\n",
      "Epoch 5/10\n",
      "1/1 [==============================] - 0s 41ms/step - loss: 0.6436 - accuracy: 1.0000\n",
      "Epoch 6/10\n",
      "1/1 [==============================] - 0s 35ms/step - loss: 0.6222 - accuracy: 1.0000\n",
      "Epoch 7/10\n",
      "1/1 [==============================] - 0s 40ms/step - loss: 0.5932 - accuracy: 1.0000\n",
      "Epoch 8/10\n",
      "1/1 [==============================] - 0s 34ms/step - loss: 0.5533 - accuracy: 1.0000\n",
      "Epoch 9/10\n",
      "1/1 [==============================] - 0s 45ms/step - loss: 0.4980 - accuracy: 1.0000\n",
      "Epoch 10/10\n",
      "1/1 [==============================] - 0s 40ms/step - loss: 0.4240 - accuracy: 1.0000\n",
      "Similaridade entre https://www.flooranddecor.com/ledgers-stone/alamo-sandstone-random-ledger-panel-100899772.html e https://www.portobello.com.br/revestimentos/linha/bloomy: 10.00%\n",
      "Similaridade entre https://www.flooranddecor.com/ledgers-stone/alamo-sandstone-random-ledger-panel-100899772.html e https://www.portobello.com.br/revestimentos/linha/filo: 0.00%\n",
      "Similaridade entre https://www.flooranddecor.com/ledgers-stone/alamo-sandstone-random-ledger-panel-100899772.html e https://www.portobello.com.br/revestimentos/linha/chelsea: 10.00%\n",
      "Similaridade entre https://www.flooranddecor.com/porcelain-ceramic-decoratives/zellige-pearl-opal-polished-ceramic-tile-100776673.html e https://www.portobello.com.br/revestimentos/linha/bloomy: 10.00%\n",
      "Similaridade entre https://www.flooranddecor.com/porcelain-ceramic-decoratives/zellige-pearl-opal-polished-ceramic-tile-100776673.html e https://www.portobello.com.br/revestimentos/linha/filo: 0.00%\n",
      "Similaridade entre https://www.flooranddecor.com/porcelain-ceramic-decoratives/zellige-pearl-opal-polished-ceramic-tile-100776673.html e https://www.portobello.com.br/revestimentos/linha/chelsea: 10.00%\n",
      "Similaridade entre https://www.flooranddecor.com/limestone-basalt-stone/black-brushed-limestone-tile-100046804.html e https://www.portobello.com.br/revestimentos/linha/bloomy: 10.00%\n",
      "Similaridade entre https://www.flooranddecor.com/limestone-basalt-stone/black-brushed-limestone-tile-100046804.html e https://www.portobello.com.br/revestimentos/linha/filo: 0.00%\n",
      "Similaridade entre https://www.flooranddecor.com/limestone-basalt-stone/black-brushed-limestone-tile-100046804.html e https://www.portobello.com.br/revestimentos/linha/chelsea: 10.00%\n",
      "Similaridade entre https://www.flooranddecor.com/limestone-basalt-stone/basalt-3-in.-hexagon-mosaic-100654334.html e https://www.portobello.com.br/revestimentos/linha/bloomy: 10.00%\n",
      "Similaridade entre https://www.flooranddecor.com/limestone-basalt-stone/basalt-3-in.-hexagon-mosaic-100654334.html e https://www.portobello.com.br/revestimentos/linha/filo: 0.00%\n",
      "Similaridade entre https://www.flooranddecor.com/limestone-basalt-stone/basalt-3-in.-hexagon-mosaic-100654334.html e https://www.portobello.com.br/revestimentos/linha/chelsea: 10.00%\n"
     ]
    }
   ],
   "source": [
    "\n",
    "def extract_keywords(url: str) -> List[str]:\n",
    "    response = requests.get(url)\n",
    "    soup = BeautifulSoup(response.text, 'html.parser')\n",
    "    text = soup.get_text()\n",
    "    words = word_tokenize(text)\n",
    "    words = [word.lower() for word in words if word.isalpha()]\n",
    "    filtered_words = [word for word in words if word not in stopwords.words('english')]\n",
    "    keyword_counter = Counter(filtered_words)\n",
    "    keywords = [word for word, count in keyword_counter.most_common(10)]\n",
    "    return keywords\n",
    "\n",
    "\n",
    "def train_text_analysis_model(data: List[str], labels: List[int], max_words: int, embedding_dim: int, max_length: int, num_epochs: int) -> tf.keras.models.Sequential:\n",
    "    tokenizer = Tokenizer(num_words=max_words, oov_token='<OOV>')\n",
    "    tokenizer.fit_on_texts(data)\n",
    "    sequences = tokenizer.texts_to_sequences(data)\n",
    "    padded_sequences = pad_sequences(sequences, maxlen=max_length, truncating='post')\n",
    "    \n",
    "    model = tf.keras.Sequential([\n",
    "        tf.keras.layers.Embedding(input_dim=max_words, output_dim=embedding_dim, input_length=max_length),\n",
    "        tf.keras.layers.LSTM(64, return_sequences=True),\n",
    "        tf.keras.layers.LSTM(64),\n",
    "        tf.keras.layers.Dense(64, activation='relu'),\n",
    "        tf.keras.layers.Dense(1, activation='sigmoid')\n",
    "    ])\n",
    "\n",
    "    model.compile(optimizer='adam', loss='binary_crossentropy', metrics=['accuracy'])\n",
    "\n",
    "    model.fit(padded_sequences, labels, epochs=num_epochs)\n",
    "\n",
    "    return model\n",
    "\n",
    "lista_urls_concorrente = [\n",
    "    \"https://www.flooranddecor.com/ledgers-stone/alamo-sandstone-random-ledger-panel-100899772.html\",\n",
    "    \"https://www.flooranddecor.com/porcelain-ceramic-decoratives/zellige-pearl-opal-polished-ceramic-tile-100776673.html\",\n",
    "    \"https://www.flooranddecor.com/limestone-basalt-stone/black-brushed-limestone-tile-100046804.html\",\n",
    "    \"https://www.flooranddecor.com/limestone-basalt-stone/basalt-3-in.-hexagon-mosaic-100654334.html\"\n",
    "]\n",
    "\n",
    "lista_urls_portobello = [\n",
    "    \"https://www.portobello.com.br/revestimentos/linha/bloomy\",\n",
    "    \"https://www.portobello.com.br/revestimentos/linha/filo\",\n",
    "    \"https://www.portobello.com.br/revestimentos/linha/chelsea\"\n",
    "]\n",
    "\n",
    "\n",
    "\"\"\"Extraindo keywords concorrência\"\"\"\n",
    "concorrente_keywords: Dict[str, List[str]] = {}\n",
    "for url in lista_urls_concorrente:\n",
    "    keywords = extract_keywords(url)\n",
    "    concorrente_keywords[url] = keywords\n",
    "    print(f\"Palavras-chave para {url}: {keywords}\")\n",
    "\n",
    "\n",
    "\"\"\"Extraindo keywords Portobello\"\"\"\n",
    "portobello_keywords: Dict[str, List[str]] = {}\n",
    "for url in lista_urls_portobello:\n",
    "    keywords = extract_keywords(url)\n",
    "    portobello_keywords[url] = keywords\n",
    "    print(f\"Palavras-chave para {url}: {keywords}\")\n",
    "\n",
    "\n",
    "\"\"\"TReinar modelo com palavras chaves\"\"\"\n",
    "\"\"\"Adicionar futuramente modelo com imagens e identificação de codigos hexadecimal de cores\"\"\"\n",
    "data = [\" \".join(keywords) for keywords in concorrente_keywords.values()]\n",
    "labels = np.array([1] * len(data)) \n",
    "max_words = 1000\n",
    "embedding_dim = 100\n",
    "max_length = 100\n",
    "num_epochs = 10\n",
    "\n",
    "model = train_text_analysis_model(data, labels, max_words, embedding_dim, max_length, num_epochs)\n",
    "\n",
    "\n",
    "\"\"\"Compara palavras chaves entre Concorrente e Portobello\"\"\"\n",
    "for url_concorrente, keywords_concorrente in concorrente_keywords.items():\n",
    "    for url_portobello, keywords_portobello in portobello_keywords.items():\n",
    "        overlap = set(keywords_concorrente) & set(keywords_portobello)\n",
    "        similarity = len(overlap) / max(len(keywords_concorrente), len(keywords_portobello))\n",
    "        print(f\"Similaridade entre {url_concorrente} e {url_portobello}: {similarity:.2%}\")"
   ]
  }
 ],
 "metadata": {
  "kernelspec": {
   "display_name": "Python 3",
   "language": "python",
   "name": "python3"
  },
  "language_info": {
   "codemirror_mode": {
    "name": "ipython",
    "version": 3
   },
   "file_extension": ".py",
   "mimetype": "text/x-python",
   "name": "python",
   "nbconvert_exporter": "python",
   "pygments_lexer": "ipython3",
   "version": "3.11.6"
  }
 },
 "nbformat": 4,
 "nbformat_minor": 2
}
